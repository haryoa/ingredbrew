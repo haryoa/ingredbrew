{
 "cells": [
  {
   "cell_type": "code",
   "execution_count": 65,
   "metadata": {},
   "outputs": [],
   "source": [
    "from torchtext.data.metrics import bleu_score"
   ]
  },
  {
   "cell_type": "code",
   "execution_count": 66,
   "metadata": {},
   "outputs": [],
   "source": [
    "import pandas as pd"
   ]
  },
  {
   "cell_type": "code",
   "execution_count": 67,
   "metadata": {},
   "outputs": [],
   "source": [
    "test = pd.read_csv('../data/processed/test.csv')"
   ]
  },
  {
   "cell_type": "code",
   "execution_count": 68,
   "metadata": {},
   "outputs": [],
   "source": [
    "gru_result = pd.read_csv('../predicted_result/test/result_gru.csv')\n",
    "trfm_result = pd.read_csv('../predicted_result/test/result_trfm.csv')"
   ]
  },
  {
   "cell_type": "code",
   "execution_count": 69,
   "metadata": {},
   "outputs": [],
   "source": [
    "gru_result.ingredients = gru_result.ingredients.str.replace('(<s> | </s>)','')\n",
    "trfm_result.ingredients = trfm_result.ingredients.str.replace('(<s> | </s>)','')"
   ]
  },
  {
   "cell_type": "code",
   "execution_count": 70,
   "metadata": {},
   "outputs": [],
   "source": [
    "test['gru_pred'] = hyp_gru\n",
    "test['trfm_pred'] = hyp_trfm"
   ]
  },
  {
   "cell_type": "code",
   "execution_count": 71,
   "metadata": {},
   "outputs": [],
   "source": [
    "pd.set_option('max_colwidth',0)"
   ]
  },
  {
   "cell_type": "code",
   "execution_count": 72,
   "metadata": {},
   "outputs": [
    {
     "data": {
      "text/html": [
       "<div>\n",
       "<style scoped>\n",
       "    .dataframe tbody tr th:only-of-type {\n",
       "        vertical-align: middle;\n",
       "    }\n",
       "\n",
       "    .dataframe tbody tr th {\n",
       "        vertical-align: top;\n",
       "    }\n",
       "\n",
       "    .dataframe thead th {\n",
       "        text-align: right;\n",
       "    }\n",
       "</style>\n",
       "<table border=\"1\" class=\"dataframe\">\n",
       "  <thead>\n",
       "    <tr style=\"text-align: right;\">\n",
       "      <th></th>\n",
       "      <th>no</th>\n",
       "      <th>src</th>\n",
       "      <th>tgt</th>\n",
       "      <th>basic_ingredient</th>\n",
       "      <th>gru_pred</th>\n",
       "      <th>trfm_pred</th>\n",
       "    </tr>\n",
       "  </thead>\n",
       "  <tbody>\n",
       "    <tr>\n",
       "      <th>985</th>\n",
       "      <td>254</td>\n",
       "      <td>tongseng ayam dengan kuah santan kental yang pedass #18</td>\n",
       "      <td>1 / 2 ekor ayam || air || 1 kara || minyak || bawang goreng || secukupnya irisan kobis || 1 tomat belah sesuai selera || bumbu iris  :  || 5 bawang merah || 10 rawit  /  sesuaikan || bumbu halus  :  || 5 bawang putih || 2 kemiri || seruas kunyit || bumbu pelengkap  :  || 1 sdm tumbar bubuk || 1 / 2 sdm merica || secukupnya garam || secukupnya gula || penyedap rasa || daun salam || daun jeruk || lengkuas1 sereh geprek || seruas jahe geprek ||</td>\n",
       "      <td>ayam</td>\n",
       "      <td>1 / 2 kg ayam || 1 / 2 kg ayam || 1 / 2 kg ayam || 1 / 2 kg ayam || 1 / 2 kg ayam || 1 / 2 kg ayam || 1 / 2 kg ayam || 1 / 2 kg ayam || 1 / 2 kg ayam || 1 / 2 kg ayam || 1 / 2 kg ayam || 1 / 2 kg ayam || 1 / 2 kg ayam || 1 / 2 kg ayam || 1 / 2 kg ayam || 1 / 2 kg ayam || 1 / 2 kg ayam || 1 / 2 kg ayam || 1 / 2 kg ayam || 1 / 2 kg ayam || 1 / 2 kg ayam || 1 / 2 kg ayam || 1 / 2 kg ayam || 1 / &lt;/s&gt;</td>\n",
       "      <td>1 / 2 kg ayam || 1 / 2 kg kol || 1 buah tomat || 1 buah tomat || 1 buah serai || 1 ruas lengkuas || 1 ruas jahe || 1 ruas kunyit || 1 ruas lengkuas || 1 batang serai || 1 lembar daun salam || 1 lembar daun jeruk || 1 buah tomat || 1 / 2 sdt garam || 1 / 2 sdt gula pasir || 1 / 2 sdt merica bubuk || 1 / 2 sdt ketumbar bubuk || 1 / 2 sdt jinten || 1 / 2 sdt jinten || 1 / 2 sdt garam || 1 / 2 sdt gula pasir || 1 / 2 sdt kaldu bubuk || 1 / 2 sdt merica bubuk || 1 / 2 sdt merica bubuk || 1 / 2 sdt kaldu bubuk || 1 /</td>\n",
       "    </tr>\n",
       "    <tr>\n",
       "      <th>1156</th>\n",
       "      <td>1282</td>\n",
       "      <td>sop ayam kentang wortel</td>\n",
       "      <td>2 buah kentang potong dadu || 2 buah wortel potong dadu || 250 gram ayam || 1 buah tomat potong2 || 1 batang daun prey /  daun sop || sesuai selera garam || 1 ltr air ||</td>\n",
       "      <td>ayam</td>\n",
       "      <td>1 / 2 kg ayam || 1 / 2 kg ayam || 1 / 2 kg ayam || 1 / 2 kg ayam || 1 / 2 kg ayam || 1 / 2 kg ayam || 1 / 2 kg ayam || 1 / 2 kg ayam || 1 / 2 kg ayam || 1 / 2 kg ayam || 1 / 2 kg ayam || 1 / 2 kg ayam || 1 / 2 kg ayam || 1 / 2 kg ayam || 1 / 2 kg ayam || 1 / 2 kg ayam || 1 / 2 kg ayam || 1 / 2 kg ayam || 1 / 2 kg ayam || 1 / 2 kg ayam || 1 / 2 kg ayam || 1 / 2 kg ayam || 1 / 2 kg ayam || 1 / &lt;/s&gt;</td>\n",
       "      <td>1 / 2 kg ayam || 1 buah kentang || 1 buah wortel || 1 buah kentang || 1 buah wortel || 1 buah kentang || 1 buah daun bawang || 1 batang seledri || 1 batang daun seledri || 1 / 2 sdt lada bubuk || 1 / 2 sdt garam || 1 / 2 sdt gula pasir || 1 / 2 sdt kaldu bubuk || 1 / 2 sdt pala bubuk || 1 / 2 sdt lada bubuk || 1 / 2 sdt pala bubuk || 1 / 2 sdt garam || 1 / 2 sdt gula pasir || 1 / 2 sdt kaldu bubuk ||</td>\n",
       "    </tr>\n",
       "    <tr>\n",
       "      <th>876</th>\n",
       "      <td>7995</td>\n",
       "      <td>ikan tongkol tahu bumbu kuning</td>\n",
       "      <td>1 bngkus pindang tongkol ( goreng )  || 4 buah tahu ( potong goreng )  || 1 buah santan kara || bumbu halus :  || 2 buah kemori || 2 siung bawang putih || 5 siung bawang merah || 10 buah cabe rawit || 1 ruas kunyit , sereh , laos , daun salam || 1 / 2 sdt ketumbar &amp; lada || secukup ny air , royco , gula , minyak goreng ||</td>\n",
       "      <td>tahu</td>\n",
       "      <td>1 / 2 ekor ikan tongkol || 1 / 2 kg ikan tongkol || 1 / 2 buah tomat || 1 ruas jahe || 1 / 2 sdt garam || 1 / 2 sdt gula pasir || &lt;/s&gt;</td>\n",
       "      <td>1 ekor ikan tongkol || 1 buah tahu || bumbu halus : || 5 siung bawang merah || 3 siung bawang putih || 1 ruas kunyit || 1 ruas jahe || 1 ruas lengkuas || 1 ruas kunyit || 1 buah kemiri || 1 sdt ketumbar || 1 / 2 sdt merica || 1 / 2 sdt garam || 1 / 2 sdt gula || 1 / 2 sdt penyedap rasa || 1 / 2 sdt gula pasir || 1 / 2 sdt garam || 1 / 2 sdt minyak goreng ||</td>\n",
       "    </tr>\n",
       "  </tbody>\n",
       "</table>\n",
       "</div>"
      ],
      "text/plain": [
       "        no                                                      src  \\\n",
       "985   254   tongseng ayam dengan kuah santan kental yang pedass #18   \n",
       "1156  1282  sop ayam kentang wortel                                   \n",
       "876   7995  ikan tongkol tahu bumbu kuning                            \n",
       "\n",
       "                                                                                                                                                                                                                                                                                                                                                                                                                                                                 tgt  \\\n",
       "985   1 / 2 ekor ayam || air || 1 kara || minyak || bawang goreng || secukupnya irisan kobis || 1 tomat belah sesuai selera || bumbu iris  :  || 5 bawang merah || 10 rawit  /  sesuaikan || bumbu halus  :  || 5 bawang putih || 2 kemiri || seruas kunyit || bumbu pelengkap  :  || 1 sdm tumbar bubuk || 1 / 2 sdm merica || secukupnya garam || secukupnya gula || penyedap rasa || daun salam || daun jeruk || lengkuas1 sereh geprek || seruas jahe geprek ||    \n",
       "1156  2 buah kentang potong dadu || 2 buah wortel potong dadu || 250 gram ayam || 1 buah tomat potong2 || 1 batang daun prey /  daun sop || sesuai selera garam || 1 ltr air ||                                                                                                                                                                                                                                                                                        \n",
       "876   1 bngkus pindang tongkol ( goreng )  || 4 buah tahu ( potong goreng )  || 1 buah santan kara || bumbu halus :  || 2 buah kemori || 2 siung bawang putih || 5 siung bawang merah || 10 buah cabe rawit || 1 ruas kunyit , sereh , laos , daun salam || 1 / 2 sdt ketumbar & lada || secukup ny air , royco , gula , minyak goreng ||                                                                                                                              \n",
       "\n",
       "     basic_ingredient  \\\n",
       "985   ayam              \n",
       "1156  ayam              \n",
       "876   tahu              \n",
       "\n",
       "                                                                                                                                                                                                                                                                                                                                                                                                             gru_pred  \\\n",
       "985   1 / 2 kg ayam || 1 / 2 kg ayam || 1 / 2 kg ayam || 1 / 2 kg ayam || 1 / 2 kg ayam || 1 / 2 kg ayam || 1 / 2 kg ayam || 1 / 2 kg ayam || 1 / 2 kg ayam || 1 / 2 kg ayam || 1 / 2 kg ayam || 1 / 2 kg ayam || 1 / 2 kg ayam || 1 / 2 kg ayam || 1 / 2 kg ayam || 1 / 2 kg ayam || 1 / 2 kg ayam || 1 / 2 kg ayam || 1 / 2 kg ayam || 1 / 2 kg ayam || 1 / 2 kg ayam || 1 / 2 kg ayam || 1 / 2 kg ayam || 1 / </s>   \n",
       "1156  1 / 2 kg ayam || 1 / 2 kg ayam || 1 / 2 kg ayam || 1 / 2 kg ayam || 1 / 2 kg ayam || 1 / 2 kg ayam || 1 / 2 kg ayam || 1 / 2 kg ayam || 1 / 2 kg ayam || 1 / 2 kg ayam || 1 / 2 kg ayam || 1 / 2 kg ayam || 1 / 2 kg ayam || 1 / 2 kg ayam || 1 / 2 kg ayam || 1 / 2 kg ayam || 1 / 2 kg ayam || 1 / 2 kg ayam || 1 / 2 kg ayam || 1 / 2 kg ayam || 1 / 2 kg ayam || 1 / 2 kg ayam || 1 / 2 kg ayam || 1 / </s>   \n",
       "876   1 / 2 ekor ikan tongkol || 1 / 2 kg ikan tongkol || 1 / 2 buah tomat || 1 ruas jahe || 1 / 2 sdt garam || 1 / 2 sdt gula pasir || </s>                                                                                                                                                                                                                                                                            \n",
       "\n",
       "                                                                                                                                                                                                                                                                                                                                                                                                                                                                                                                                 trfm_pred  \n",
       "985   1 / 2 kg ayam || 1 / 2 kg kol || 1 buah tomat || 1 buah tomat || 1 buah serai || 1 ruas lengkuas || 1 ruas jahe || 1 ruas kunyit || 1 ruas lengkuas || 1 batang serai || 1 lembar daun salam || 1 lembar daun jeruk || 1 buah tomat || 1 / 2 sdt garam || 1 / 2 sdt gula pasir || 1 / 2 sdt merica bubuk || 1 / 2 sdt ketumbar bubuk || 1 / 2 sdt jinten || 1 / 2 sdt jinten || 1 / 2 sdt garam || 1 / 2 sdt gula pasir || 1 / 2 sdt kaldu bubuk || 1 / 2 sdt merica bubuk || 1 / 2 sdt merica bubuk || 1 / 2 sdt kaldu bubuk || 1 /  \n",
       "1156  1 / 2 kg ayam || 1 buah kentang || 1 buah wortel || 1 buah kentang || 1 buah wortel || 1 buah kentang || 1 buah daun bawang || 1 batang seledri || 1 batang daun seledri || 1 / 2 sdt lada bubuk || 1 / 2 sdt garam || 1 / 2 sdt gula pasir || 1 / 2 sdt kaldu bubuk || 1 / 2 sdt pala bubuk || 1 / 2 sdt lada bubuk || 1 / 2 sdt pala bubuk || 1 / 2 sdt garam || 1 / 2 sdt gula pasir || 1 / 2 sdt kaldu bubuk ||                                                                                                                   \n",
       "876   1 ekor ikan tongkol || 1 buah tahu || bumbu halus : || 5 siung bawang merah || 3 siung bawang putih || 1 ruas kunyit || 1 ruas jahe || 1 ruas lengkuas || 1 ruas kunyit || 1 buah kemiri || 1 sdt ketumbar || 1 / 2 sdt merica || 1 / 2 sdt garam || 1 / 2 sdt gula || 1 / 2 sdt penyedap rasa || 1 / 2 sdt gula pasir || 1 / 2 sdt garam || 1 / 2 sdt minyak goreng ||                                                                                                                                                               "
      ]
     },
     "execution_count": 72,
     "metadata": {},
     "output_type": "execute_result"
    }
   ],
   "source": [
    "test.sample(3)"
   ]
  },
  {
   "cell_type": "code",
   "execution_count": null,
   "metadata": {},
   "outputs": [],
   "source": []
  }
 ],
 "metadata": {
  "kernelspec": {
   "display_name": "Python 3",
   "language": "python",
   "name": "python3"
  },
  "language_info": {
   "codemirror_mode": {
    "name": "ipython",
    "version": 3
   },
   "file_extension": ".py",
   "mimetype": "text/x-python",
   "name": "python",
   "nbconvert_exporter": "python",
   "pygments_lexer": "ipython3",
   "version": "3.8.3"
  }
 },
 "nbformat": 4,
 "nbformat_minor": 4
}
