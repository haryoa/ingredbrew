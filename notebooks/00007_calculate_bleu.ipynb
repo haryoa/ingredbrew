{
 "cells": [
  {
   "cell_type": "code",
   "execution_count": 82,
   "metadata": {},
   "outputs": [],
   "source": [
    "from torchtext.data.metrics import bleu_score"
   ]
  },
  {
   "cell_type": "code",
   "execution_count": 83,
   "metadata": {},
   "outputs": [],
   "source": [
    "import pandas as pd"
   ]
  },
  {
   "cell_type": "code",
   "execution_count": 84,
   "metadata": {},
   "outputs": [],
   "source": [
    "test = pd.read_csv('../data/processed/test.csv')"
   ]
  },
  {
   "cell_type": "code",
   "execution_count": 85,
   "metadata": {},
   "outputs": [],
   "source": [
    "gru_result = pd.read_csv('../predicted_result/test/result_gru.csv')\n",
    "trfm_result = pd.read_csv('../predicted_result/test/result_trfm.csv')"
   ]
  },
  {
   "cell_type": "code",
   "execution_count": 86,
   "metadata": {},
   "outputs": [],
   "source": [
    "gru_result.ingredients = gru_result.ingredients.str.replace('(<s> | </s>)','')\n",
    "trfm_result.ingredients = trfm_result.ingredients.str.replace('(<s> | </s>)','')"
   ]
  },
  {
   "cell_type": "code",
   "execution_count": 89,
   "metadata": {},
   "outputs": [],
   "source": [
    "test['gru_pred'] = gru_result.ingredients\n",
    "test['trfm_pred'] = trfm_result.ingredients"
   ]
  },
  {
   "cell_type": "code",
   "execution_count": 90,
   "metadata": {},
   "outputs": [],
   "source": [
    "pd.set_option('max_colwidth',0)"
   ]
  },
  {
   "cell_type": "code",
   "execution_count": 93,
   "metadata": {},
   "outputs": [
    {
     "data": {
      "text/html": [
       "<div>\n",
       "<style scoped>\n",
       "    .dataframe tbody tr th:only-of-type {\n",
       "        vertical-align: middle;\n",
       "    }\n",
       "\n",
       "    .dataframe tbody tr th {\n",
       "        vertical-align: top;\n",
       "    }\n",
       "\n",
       "    .dataframe thead th {\n",
       "        text-align: right;\n",
       "    }\n",
       "</style>\n",
       "<table border=\"1\" class=\"dataframe\">\n",
       "  <thead>\n",
       "    <tr style=\"text-align: right;\">\n",
       "      <th></th>\n",
       "      <th>no</th>\n",
       "      <th>src</th>\n",
       "      <th>tgt</th>\n",
       "      <th>basic_ingredient</th>\n",
       "      <th>gru_pred</th>\n",
       "      <th>trfm_pred</th>\n",
       "    </tr>\n",
       "  </thead>\n",
       "  <tbody>\n",
       "    <tr>\n",
       "      <th>1167</th>\n",
       "      <td>10723</td>\n",
       "      <td>telur dadar jamur tiram</td>\n",
       "      <td>5 butir telur ayam , kocok lepas || 5 bh bawang merah , iris || 3 siung bawang putih , iris || 200 gr jamur tiram cuci bersih || 1 batang daun seledri , cincang kasar || 5 bh cabe merah iris tipis || 5 bh cabe hijau iris tipis || 1 sdm tepung bumbu sajiku || 1 / 2 sdt garam || 1 / 2 sdt lada bubuk ||</td>\n",
       "      <td>telur</td>\n",
       "      <td>2 butir telur || 1 / 2 sdt garam || secukupnya gula || secukupnya gula || secukupnya gula || secukupnya gula || secukupnya gula || secukupnya gula || secukupnya gula || secukupnya gula || secukupnya gula || secukupnya gula || secukupnya gula || secukupnya gula || secukupnya gula || secukupnya gula || secukupnya gula || secukupnya gula || secukupnya gula || secukupnya gula || secukupnya gula || secukupnya gula || secukupnya gula || secukupnya gula || secukupnya gula || secukupnya gula || secukupnya gula || secukupnya gula || secukupnya gula || secukupnya gula || secukupnya gula || secukupnya gula || secukupnya gula || secukupnya gula || secukupnya gula || secukupnya gula || secukupnya gula || secukupnya gula || secukupnya gula || secukupnya gula || secukupnya gula || secukupnya gula || secukupnya gula || secukupnya gula || secukupnya gula || secukupnya</td>\n",
       "      <td>2 butir telur ayam || 1 / 2 bawang bombay || 2 siung bawang putih || 1 / 2 sdt lada bubuk || 1 / 2 sdt garam || 1 / 2 sdt kecap asin || 1 / 2 sdt kecap asin || 1 / 2 sdt minyak wijen || 1 / 2 sdt minyak wijen ||</td>\n",
       "    </tr>\n",
       "    <tr>\n",
       "      <th>1129</th>\n",
       "      <td>7608</td>\n",
       "      <td>gulai kikil sapi</td>\n",
       "      <td>1 / 2 kg kikil sapi || 2 buah kentang besar || 1 batang serai , geprek || 3 lbr daun salam || 1 lbr daun kunyit || sesuai selera garam || kelapa parut || untuk bumbu halus  :  || 4 siung bawang merah || 2 siung bawang putih || seujung jari lengkuas || 1 / 2 ujung jari jahe || 20 pcs cabe merah ||</td>\n",
       "      <td>sapi</td>\n",
       "      <td>1 / 2 kg daging sapi || 1 / 2 kg daging sapi || 1 / 2 sdt ketumbar || 1 / 2 sdt merica || 1 / 2 sdt ketumbar || 1 / 2 sdt merica || 1 / 2 sdt ketumbar || 1 / 2 sdt merica || 1 / 2 sdt ketumbar || 1 / 2 sdt merica || 1 / 2 sdt ketumbar || 1 / 2 sdt merica || 1 / 2 sdt ketumbar || 1 / 2 sdt merica || 1 / 2 sdt ketumbar || 1 / 2 sdt merica || 1 / 2 sdt ketumbar || 1 / 2 sdt merica || 1 / 2 sdt ketumbar || 1 / 2 sdt merica || 1 / 2 sdt ketumbar || 1 / 2 sdt merica || 1 / 2 sdt ketumbar ||</td>\n",
       "      <td>1 / 2 kg kikil sapi || 1 / 2 kg kikil sapi || 1 / 2 kg kikil sapi || 1 / 2 kg kikil sapi || 1 / 2 ons cabe merah || 1 / 2 ons cabe rawit || 1 / 2 ons cabe merah || 1 / 2 ons cabe rawit || 1 / 2 ons cabe merah || 1 / 2 ons bawang merah || 1 / 2 sdt merica || 1 / 2 sdt ketumbar || 1 / 2 sdt garam || 1 / 2 sdt gula pasir || 1 / 2 sdt penyedap rasa || 1 / 2 sdt gula pasir ||</td>\n",
       "    </tr>\n",
       "    <tr>\n",
       "      <th>575</th>\n",
       "      <td>9770</td>\n",
       "      <td>sup ayam telur kocok</td>\n",
       "      <td>bahan rebus :  || 1 / 2 kg ayam || 1 telur ayam || 1 / 4 kg wortel || 2 bh jagung  ( serut )  || 3 lbr daun seledri || garam || bahan tumis :  || 1 ruas daun bawang || 5 bawang putih || 1 bh bawang bombay || minyak ||</td>\n",
       "      <td>telur</td>\n",
       "      <td>1 / 2 kg ayam || 1 / 2 kg ayam || 1 / 2 kg ayam || 1 / 2 kg ayam || 1 / 2 kg ayam || 1 / 2 kg ayam || 1 / 2 kg ayam || 1 / 2 kg ayam || 1 / 2 kg ayam || 1 / 2 kg ayam || 1 / 2 kg ayam || 1 / 2 kg ayam || 1 / 2 kg ayam || 1 / 2 kg ayam || 1 / 2 kg ayam || 1 / 2 kg ayam || 1 / 2 kg ayam || 1 / 2 kg ayam || 1 / 2 kg ayam || 1 / 2 kg ayam || 1 / 2 kg ayam || 1 / 2 kg ayam || 1 / 2 kg ayam || 1 /</td>\n",
       "      <td>1 / 2 kg ayam || 1 butir telur || 1 / 2 buah wortel || 1 buah kentang || 1 buah daun bawang || 1 buah tomat || 1 / 2 sdt garam || 1 / 2 sdt lada bubuk || 1 / 2 sdt kaldu bubuk || 1 / 2 sdt gula pasir || 1 / 2 sdt kecap asin || 1 / 2 sdt minyak wijen ||</td>\n",
       "    </tr>\n",
       "  </tbody>\n",
       "</table>\n",
       "</div>"
      ],
      "text/plain": [
       "         no                      src  \\\n",
       "1167  10723  telur dadar jamur tiram   \n",
       "1129  7608   gulai kikil sapi          \n",
       "575   9770   sup ayam telur kocok      \n",
       "\n",
       "                                                                                                                                                                                                                                                                                                                 tgt  \\\n",
       "1167  5 butir telur ayam , kocok lepas || 5 bh bawang merah , iris || 3 siung bawang putih , iris || 200 gr jamur tiram cuci bersih || 1 batang daun seledri , cincang kasar || 5 bh cabe merah iris tipis || 5 bh cabe hijau iris tipis || 1 sdm tepung bumbu sajiku || 1 / 2 sdt garam || 1 / 2 sdt lada bubuk ||    \n",
       "1129  1 / 2 kg kikil sapi || 2 buah kentang besar || 1 batang serai , geprek || 3 lbr daun salam || 1 lbr daun kunyit || sesuai selera garam || kelapa parut || untuk bumbu halus  :  || 4 siung bawang merah || 2 siung bawang putih || seujung jari lengkuas || 1 / 2 ujung jari jahe || 20 pcs cabe merah ||        \n",
       "575   bahan rebus :  || 1 / 2 kg ayam || 1 telur ayam || 1 / 4 kg wortel || 2 bh jagung  ( serut )  || 3 lbr daun seledri || garam || bahan tumis :  || 1 ruas daun bawang || 5 bawang putih || 1 bh bawang bombay || minyak ||                                                                                        \n",
       "\n",
       "     basic_ingredient  \\\n",
       "1167  telur             \n",
       "1129  sapi              \n",
       "575   telur             \n",
       "\n",
       "                                                                                                                                                                                                                                                                                                                                                                                                                                                                                                                                                                                                                                                                                                                                                                                                                                                                                             gru_pred  \\\n",
       "1167  2 butir telur || 1 / 2 sdt garam || secukupnya gula || secukupnya gula || secukupnya gula || secukupnya gula || secukupnya gula || secukupnya gula || secukupnya gula || secukupnya gula || secukupnya gula || secukupnya gula || secukupnya gula || secukupnya gula || secukupnya gula || secukupnya gula || secukupnya gula || secukupnya gula || secukupnya gula || secukupnya gula || secukupnya gula || secukupnya gula || secukupnya gula || secukupnya gula || secukupnya gula || secukupnya gula || secukupnya gula || secukupnya gula || secukupnya gula || secukupnya gula || secukupnya gula || secukupnya gula || secukupnya gula || secukupnya gula || secukupnya gula || secukupnya gula || secukupnya gula || secukupnya gula || secukupnya gula || secukupnya gula || secukupnya gula || secukupnya gula || secukupnya gula || secukupnya gula || secukupnya gula || secukupnya   \n",
       "1129  1 / 2 kg daging sapi || 1 / 2 kg daging sapi || 1 / 2 sdt ketumbar || 1 / 2 sdt merica || 1 / 2 sdt ketumbar || 1 / 2 sdt merica || 1 / 2 sdt ketumbar || 1 / 2 sdt merica || 1 / 2 sdt ketumbar || 1 / 2 sdt merica || 1 / 2 sdt ketumbar || 1 / 2 sdt merica || 1 / 2 sdt ketumbar || 1 / 2 sdt merica || 1 / 2 sdt ketumbar || 1 / 2 sdt merica || 1 / 2 sdt ketumbar || 1 / 2 sdt merica || 1 / 2 sdt ketumbar || 1 / 2 sdt merica || 1 / 2 sdt ketumbar || 1 / 2 sdt merica || 1 / 2 sdt ketumbar ||                                                                                                                                                                                                                                                                                                                                                                                         \n",
       "575   1 / 2 kg ayam || 1 / 2 kg ayam || 1 / 2 kg ayam || 1 / 2 kg ayam || 1 / 2 kg ayam || 1 / 2 kg ayam || 1 / 2 kg ayam || 1 / 2 kg ayam || 1 / 2 kg ayam || 1 / 2 kg ayam || 1 / 2 kg ayam || 1 / 2 kg ayam || 1 / 2 kg ayam || 1 / 2 kg ayam || 1 / 2 kg ayam || 1 / 2 kg ayam || 1 / 2 kg ayam || 1 / 2 kg ayam || 1 / 2 kg ayam || 1 / 2 kg ayam || 1 / 2 kg ayam || 1 / 2 kg ayam || 1 / 2 kg ayam || 1 /                                                                                                                                                                                                                                                                                                                                                                                                                                                                                        \n",
       "\n",
       "                                                                                                                                                                                                                                                                                                                                                                                  trfm_pred  \n",
       "1167  2 butir telur ayam || 1 / 2 bawang bombay || 2 siung bawang putih || 1 / 2 sdt lada bubuk || 1 / 2 sdt garam || 1 / 2 sdt kecap asin || 1 / 2 sdt kecap asin || 1 / 2 sdt minyak wijen || 1 / 2 sdt minyak wijen ||                                                                                                                                                                    \n",
       "1129  1 / 2 kg kikil sapi || 1 / 2 kg kikil sapi || 1 / 2 kg kikil sapi || 1 / 2 kg kikil sapi || 1 / 2 ons cabe merah || 1 / 2 ons cabe rawit || 1 / 2 ons cabe merah || 1 / 2 ons cabe rawit || 1 / 2 ons cabe merah || 1 / 2 ons bawang merah || 1 / 2 sdt merica || 1 / 2 sdt ketumbar || 1 / 2 sdt garam || 1 / 2 sdt gula pasir || 1 / 2 sdt penyedap rasa || 1 / 2 sdt gula pasir ||  \n",
       "575   1 / 2 kg ayam || 1 butir telur || 1 / 2 buah wortel || 1 buah kentang || 1 buah daun bawang || 1 buah tomat || 1 / 2 sdt garam || 1 / 2 sdt lada bubuk || 1 / 2 sdt kaldu bubuk || 1 / 2 sdt gula pasir || 1 / 2 sdt kecap asin || 1 / 2 sdt minyak wijen ||                                                                                                                           "
      ]
     },
     "execution_count": 93,
     "metadata": {},
     "output_type": "execute_result"
    }
   ],
   "source": [
    "test.sample(3)"
   ]
  },
  {
   "cell_type": "code",
   "execution_count": null,
   "metadata": {},
   "outputs": [],
   "source": []
  }
 ],
 "metadata": {
  "kernelspec": {
   "display_name": "Python 3",
   "language": "python",
   "name": "python3"
  },
  "language_info": {
   "codemirror_mode": {
    "name": "ipython",
    "version": 3
   },
   "file_extension": ".py",
   "mimetype": "text/x-python",
   "name": "python",
   "nbconvert_exporter": "python",
   "pygments_lexer": "ipython3",
   "version": "3.8.3"
  }
 },
 "nbformat": 4,
 "nbformat_minor": 4
}
